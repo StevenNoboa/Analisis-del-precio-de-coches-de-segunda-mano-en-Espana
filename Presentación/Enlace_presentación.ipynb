{
 "cells": [
  {
   "cell_type": "markdown",
   "metadata": {},
   "source": [
    "### Enlace a la presentación:\n",
    "[Se puede accer a la presentación através de este enlace](https://view.genial.ly/65395737c50d8a00119a7f31/presentation-presentacion-motor).\n",
    "\n",
    "* La presentación la he realizado en Genially una herramienta para realizar presentaciones."
   ]
  }
 ],
 "metadata": {
  "language_info": {
   "name": "python"
  }
 },
 "nbformat": 4,
 "nbformat_minor": 2
}
